{
 "cells": [
  {
   "cell_type": "code",
   "execution_count": 1,
   "metadata": {},
   "outputs": [],
   "source": [
    "import os\n",
    "import shutil\n",
    "import numpy as np\n",
    "import tensorflow as tf\n",
    "from tensorflow.keras.preprocessing.image import ImageDataGenerator\n",
    "from tensorflow.keras.applications import DenseNet121\n",
    "from tensorflow.keras.models import Model\n",
    "from tensorflow.keras.layers import Dense, GlobalAveragePooling2D, Dropout\n",
    "from tensorflow.keras.callbacks import ModelCheckpoint, CSVLogger, ReduceLROnPlateau, EarlyStopping\n",
    "from tensorflow.keras.regularizers import l2\n",
    "from sklearn.model_selection import train_test_split\n",
    "from sklearn.metrics import confusion_matrix, classification_report\n",
    "import matplotlib.pyplot as plt\n",
    "import seaborn as sns"
   ]
  },
  {
   "cell_type": "code",
   "execution_count": 2,
   "metadata": {},
   "outputs": [
    {
     "name": "stdout",
     "output_type": "stream",
     "text": [
      "Found 11895 images belonging to 3 classes.\n",
      "Found 2976 images belonging to 3 classes.\n"
     ]
    }
   ],
   "source": [
    "\n",
    "# Directories\n",
    "DATA_DIR = r\"C:\\Users\\farah\\Desktop\\ModelsTypesRun\\new updates\"\n",
    "TRAIN_DIR = r\"C:\\Users\\farah\\Desktop\\ModelsTypesRun\\train_data2\"\n",
    "TEST_DIR = r\"C:\\Users\\farah\\Desktop\\ModelsTypesRun\\test_data2\"\n",
    "IMG_SIZE = (224, 224)  # DenseNet requirement\n",
    "BATCH_SIZE = 16\n",
    "EPOCHS = 15\n",
    "MAX_IMAGES_PER_CLASS = 10000\n",
    "\n",
    "# Dataset Preparation\n",
    "def prepare_dataset(data_dir, train_dir, test_dir, max_images_per_class, train_split=0.8):\n",
    "    for dir_path in [train_dir, test_dir]:\n",
    "        if os.path.exists(dir_path):\n",
    "            shutil.rmtree(dir_path)\n",
    "        os.makedirs(dir_path, exist_ok=True)\n",
    "\n",
    "    for class_name in os.listdir(data_dir):\n",
    "        class_path = os.path.join(data_dir, class_name)\n",
    "        if os.path.isdir(class_path):\n",
    "            images = os.listdir(class_path)[:max_images_per_class]\n",
    "            train_images, test_images = train_test_split(images, train_size=train_split, random_state=42)\n",
    "\n",
    "            train_class_dir = os.path.join(train_dir, class_name)\n",
    "            test_class_dir = os.path.join(test_dir, class_name)\n",
    "            os.makedirs(train_class_dir, exist_ok=True)\n",
    "            os.makedirs(test_class_dir, exist_ok=True)\n",
    "\n",
    "            for image in train_images:\n",
    "                shutil.copy(os.path.join(class_path, image), os.path.join(train_class_dir, image))\n",
    "            for image in test_images:\n",
    "                shutil.copy(os.path.join(class_path, image), os.path.join(test_class_dir, image))\n",
    "\n",
    "prepare_dataset(DATA_DIR, TRAIN_DIR, TEST_DIR, MAX_IMAGES_PER_CLASS)\n",
    "\n",
    "# Data Augmentation\n",
    "train_datagen = ImageDataGenerator(\n",
    "    rescale=1./255,\n",
    "    rotation_range=40,\n",
    "    width_shift_range=0.2,\n",
    "    height_shift_range=0.2,\n",
    "    shear_range=0.2,\n",
    "    zoom_range=0.3,\n",
    "    horizontal_flip=True,\n",
    "    fill_mode='nearest',\n",
    "    brightness_range=[0.8, 1.2],  # Advanced augmentation\n",
    "    channel_shift_range=50.0       # Advanced augmentation\n",
    ")\n",
    "\n",
    "test_datagen = ImageDataGenerator(rescale=1./255)\n",
    "\n",
    "train_gen = train_datagen.flow_from_directory(\n",
    "    TRAIN_DIR,\n",
    "    target_size=IMG_SIZE,\n",
    "    batch_size=BATCH_SIZE,\n",
    "    class_mode='categorical'\n",
    ")\n",
    "\n",
    "test_gen = test_datagen.flow_from_directory(\n",
    "    TEST_DIR,\n",
    "    target_size=IMG_SIZE,\n",
    "    batch_size=BATCH_SIZE,\n",
    "    class_mode='categorical',\n",
    "    shuffle=False\n",
    ")"
   ]
  },
  {
   "cell_type": "code",
   "execution_count": 3,
   "metadata": {},
   "outputs": [
    {
     "name": "stderr",
     "output_type": "stream",
     "text": [
      "c:\\Users\\farah\\AppData\\Local\\Programs\\Python\\Python311\\Lib\\site-packages\\keras\\src\\trainers\\data_adapters\\py_dataset_adapter.py:121: UserWarning: Your `PyDataset` class should call `super().__init__(**kwargs)` in its constructor. `**kwargs` can include `workers`, `use_multiprocessing`, `max_queue_size`. Do not pass these arguments to `fit()`, as they will be ignored.\n",
      "  self._warn_if_super_not_called()\n"
     ]
    },
    {
     "name": "stdout",
     "output_type": "stream",
     "text": [
      "Epoch 1/15\n",
      "\u001b[1m744/744\u001b[0m \u001b[32m━━━━━━━━━━━━━━━━━━━━\u001b[0m\u001b[37m\u001b[0m \u001b[1m857s\u001b[0m 1s/step - accuracy: 0.5476 - loss: 8.8488 - val_accuracy: 0.6757 - val_loss: 5.0115 - learning_rate: 1.0000e-04\n",
      "Epoch 2/15\n",
      "\u001b[1m744/744\u001b[0m \u001b[32m━━━━━━━━━━━━━━━━━━━━\u001b[0m\u001b[37m\u001b[0m \u001b[1m767s\u001b[0m 1s/step - accuracy: 0.6593 - loss: 4.5665 - val_accuracy: 0.6949 - val_loss: 3.3558 - learning_rate: 1.0000e-04\n",
      "Epoch 3/15\n",
      "\u001b[1m744/744\u001b[0m \u001b[32m━━━━━━━━━━━━━━━━━━━━\u001b[0m\u001b[37m\u001b[0m \u001b[1m768s\u001b[0m 1s/step - accuracy: 0.6906 - loss: 3.1038 - val_accuracy: 0.7137 - val_loss: 2.3529 - learning_rate: 1.0000e-04\n",
      "Epoch 4/15\n",
      "\u001b[1m744/744\u001b[0m \u001b[32m━━━━━━━━━━━━━━━━━━━━\u001b[0m\u001b[37m\u001b[0m \u001b[1m767s\u001b[0m 1s/step - accuracy: 0.7053 - loss: 2.2017 - val_accuracy: 0.7124 - val_loss: 1.7207 - learning_rate: 1.0000e-04\n",
      "Epoch 5/15\n",
      "\u001b[1m744/744\u001b[0m \u001b[32m━━━━━━━━━━━━━━━━━━━━\u001b[0m\u001b[37m\u001b[0m \u001b[1m769s\u001b[0m 1s/step - accuracy: 0.7016 - loss: 1.6368 - val_accuracy: 0.7046 - val_loss: 1.3493 - learning_rate: 1.0000e-04\n",
      "Epoch 6/15\n",
      "\u001b[1m744/744\u001b[0m \u001b[32m━━━━━━━━━━━━━━━━━━━━\u001b[0m\u001b[37m\u001b[0m \u001b[1m769s\u001b[0m 1s/step - accuracy: 0.7158 - loss: 1.2752 - val_accuracy: 0.7224 - val_loss: 1.0975 - learning_rate: 1.0000e-04\n",
      "Epoch 7/15\n",
      "\u001b[1m744/744\u001b[0m \u001b[32m━━━━━━━━━━━━━━━━━━━━\u001b[0m\u001b[37m\u001b[0m \u001b[1m764s\u001b[0m 1s/step - accuracy: 0.7293 - loss: 1.0459 - val_accuracy: 0.7097 - val_loss: 0.9646 - learning_rate: 1.0000e-04\n",
      "Epoch 8/15\n",
      "\u001b[1m744/744\u001b[0m \u001b[32m━━━━━━━━━━━━━━━━━━━━\u001b[0m\u001b[37m\u001b[0m \u001b[1m767s\u001b[0m 1s/step - accuracy: 0.7460 - loss: 0.8859 - val_accuracy: 0.7426 - val_loss: 0.8280 - learning_rate: 1.0000e-04\n",
      "Epoch 9/15\n",
      "\u001b[1m744/744\u001b[0m \u001b[32m━━━━━━━━━━━━━━━━━━━━\u001b[0m\u001b[37m\u001b[0m \u001b[1m766s\u001b[0m 1s/step - accuracy: 0.7391 - loss: 0.8165 - val_accuracy: 0.7127 - val_loss: 0.8537 - learning_rate: 1.0000e-04\n",
      "Epoch 10/15\n",
      "\u001b[1m744/744\u001b[0m \u001b[32m━━━━━━━━━━━━━━━━━━━━\u001b[0m\u001b[37m\u001b[0m \u001b[1m762s\u001b[0m 1s/step - accuracy: 0.7516 - loss: 0.7487 - val_accuracy: 0.7389 - val_loss: 0.7711 - learning_rate: 1.0000e-04\n",
      "Epoch 11/15\n",
      "\u001b[1m744/744\u001b[0m \u001b[32m━━━━━━━━━━━━━━━━━━━━\u001b[0m\u001b[37m\u001b[0m \u001b[1m763s\u001b[0m 1s/step - accuracy: 0.7526 - loss: 0.7103 - val_accuracy: 0.7366 - val_loss: 0.7466 - learning_rate: 1.0000e-04\n",
      "Epoch 12/15\n",
      "\u001b[1m744/744\u001b[0m \u001b[32m━━━━━━━━━━━━━━━━━━━━\u001b[0m\u001b[37m\u001b[0m \u001b[1m766s\u001b[0m 1s/step - accuracy: 0.7575 - loss: 0.6841 - val_accuracy: 0.7466 - val_loss: 0.7202 - learning_rate: 1.0000e-04\n",
      "Epoch 13/15\n",
      "\u001b[1m744/744\u001b[0m \u001b[32m━━━━━━━━━━━━━━━━━━━━\u001b[0m\u001b[37m\u001b[0m \u001b[1m763s\u001b[0m 1s/step - accuracy: 0.7652 - loss: 0.6489 - val_accuracy: 0.7087 - val_loss: 0.7950 - learning_rate: 1.0000e-04\n",
      "Epoch 14/15\n",
      "\u001b[1m744/744\u001b[0m \u001b[32m━━━━━━━━━━━━━━━━━━━━\u001b[0m\u001b[37m\u001b[0m \u001b[1m765s\u001b[0m 1s/step - accuracy: 0.7662 - loss: 0.6383 - val_accuracy: 0.7497 - val_loss: 0.7054 - learning_rate: 1.0000e-04\n",
      "Epoch 15/15\n",
      "\u001b[1m744/744\u001b[0m \u001b[32m━━━━━━━━━━━━━━━━━━━━\u001b[0m\u001b[37m\u001b[0m \u001b[1m765s\u001b[0m 1s/step - accuracy: 0.7710 - loss: 0.6297 - val_accuracy: 0.7530 - val_loss: 0.6822 - learning_rate: 1.0000e-04\n"
     ]
    }
   ],
   "source": [
    "\n",
    "# Model Definition\n",
    "base_model = DenseNet121(weights='imagenet', include_top=False, input_shape=(*IMG_SIZE, 3))\n",
    "for layer in base_model.layers[:-20]:  # Freeze all layers except the last 20\n",
    "    layer.trainable = False\n",
    "\n",
    "x = base_model.output\n",
    "x = GlobalAveragePooling2D()(x)\n",
    "x = Dense(512, activation='relu', kernel_regularizer=l2(0.01))(x)\n",
    "x = Dropout(0.5)(x)\n",
    "x = Dense(256, activation='relu', kernel_regularizer=l2(0.01))(x)\n",
    "x = Dropout(0.4)(x)\n",
    "predictions = Dense(train_gen.num_classes, activation='softmax')(x)\n",
    "model = Model(inputs=base_model.input, outputs=predictions)\n",
    "\n",
    "# Compile the Model\n",
    "model.compile(optimizer=tf.keras.optimizers.Adam(learning_rate=0.0001),\n",
    "              loss='categorical_crossentropy',\n",
    "              metrics=['accuracy'])\n",
    "\n",
    "# Callbacks\n",
    "checkpoint = ModelCheckpoint(\n",
    "    filepath=os.path.join(r\"C:\\Users\\farah\\Desktop\\ModelsTypesRun\", \"densenet_model_epoch_{epoch:02d}.keras\"),\n",
    "    save_best_only=True,\n",
    "    monitor='val_accuracy',\n",
    "    mode='max'\n",
    ")\n",
    "csv_logger = CSVLogger(os.path.join(r\"C:\\Users\\farah\\Desktop\\ModelsTypesRun\", 'densenet_training_log.csv'))\n",
    "lr_scheduler = ReduceLROnPlateau(\n",
    "    monitor='val_loss',\n",
    "    factor=0.5,\n",
    "    patience=2,\n",
    "    verbose=1,\n",
    "    min_lr=1e-6\n",
    ")\n",
    "early_stopping = EarlyStopping(\n",
    "    monitor='val_loss',\n",
    "    patience=5,\n",
    "    restore_best_weights=True\n",
    ")\n",
    "\n",
    "# Train the Model\n",
    "history = model.fit(\n",
    "    train_gen,\n",
    "    validation_data=test_gen,\n",
    "    epochs=EPOCHS,\n",
    "    callbacks=[checkpoint, csv_logger, lr_scheduler, early_stopping]\n",
    ")\n",
    "\n",
    "# Save the Final Model\n",
    "model.save(os.path.join(r\"C:\\Users\\farah\\Desktop\\ModelsTypesRun\", \"densenet_final_model.keras\"))"
   ]
  },
  {
   "cell_type": "code",
   "execution_count": 4,
   "metadata": {},
   "outputs": [
    {
     "name": "stdout",
     "output_type": "stream",
     "text": [
      "\u001b[1m186/186\u001b[0m \u001b[32m━━━━━━━━━━━━━━━━━━━━\u001b[0m\u001b[37m\u001b[0m \u001b[1m138s\u001b[0m 744ms/step - accuracy: 0.8362 - loss: 0.4726\n",
      "DenseNet Test Accuracy: 0.75\n",
      "\u001b[1m186/186\u001b[0m \u001b[32m━━━━━━━━━━━━━━━━━━━━\u001b[0m\u001b[37m\u001b[0m \u001b[1m141s\u001b[0m 744ms/step\n"
     ]
    },
    {
     "data": {
      "image/png": "[encoded data removed]",
      "text/plain": [
       "<Figure size 1000x800 with 2 Axes>"
      ]
     },
     "metadata": {},
     "output_type": "display_data"
    },
    {
     "name": "stdout",
     "output_type": "stream",
     "text": [
      "              precision    recall  f1-score   support\n",
      "\n",
      "    new mild       0.85      0.83      0.84      1578\n",
      "new moderate       0.62      0.46      0.52       508\n",
      "  new severe       0.66      0.79      0.72       890\n",
      "\n",
      "    accuracy                           0.75      2976\n",
      "   macro avg       0.71      0.69      0.69      2976\n",
      "weighted avg       0.75      0.75      0.75      2976\n",
      "\n"
     ]
    }
   ],
   "source": [
    "# Evaluate the Model\n",
    "test_gen.reset()\n",
    "test_loss, test_accuracy = model.evaluate(test_gen)\n",
    "print(f\"DenseNet Test Accuracy: {test_accuracy:.2f}\")\n",
    "\n",
    "# Predictions and Metrics\n",
    "test_gen.reset()\n",
    "preds = model.predict(test_gen)\n",
    "y_pred = np.argmax(preds, axis=1)\n",
    "y_true = test_gen.classes\n",
    "cm = confusion_matrix(y_true, y_pred)\n",
    "\n",
    "plt.figure(figsize=(10, 8))\n",
    "sns.heatmap(cm, annot=True, fmt=\"d\", cmap=\"Blues\", xticklabels=train_gen.class_indices.keys(), yticklabels=train_gen.class_indices.keys())\n",
    "plt.title(\"DenseNet Confusion Matrix\")\n",
    "plt.xlabel(\"Predicted\")\n",
    "plt.ylabel(\"True\")\n",
    "plt.show()\n",
    "\n",
    "print(classification_report(y_true, y_pred, target_names=train_gen.class_indices.keys()))"
   ]
  }
 ],
 "metadata": {
  "kernelspec": {
   "display_name": "Python 3",
   "language": "python",
   "name": "python3"
  },
  "language_info": {
   "codemirror_mode": {
    "name": "ipython",
    "version": 3
   },
   "file_extension": ".py",
   "mimetype": "text/x-python",
   "name": "python",
   "nbconvert_exporter": "python",
   "pygments_lexer": "ipython3",
   "version": "3.11.4"
  }
 },
 "nbformat": 4,
 "nbformat_minor": 2
}

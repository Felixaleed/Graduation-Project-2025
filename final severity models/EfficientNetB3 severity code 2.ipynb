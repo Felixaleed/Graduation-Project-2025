{
 "cells": [
  {
   "cell_type": "code",
   "execution_count": 1,
   "metadata": {},
   "outputs": [],
   "source": [
    "import os\n",
    "import shutil\n",
    "import numpy as np\n",
    "import tensorflow as tf\n",
    "from tensorflow.keras.preprocessing.image import ImageDataGenerator\n",
    "from tensorflow.keras.applications import EfficientNetB3\n",
    "from tensorflow.keras.models import Model\n",
    "from tensorflow.keras.layers import Dense, GlobalAveragePooling2D, Dropout\n",
    "from tensorflow.keras.callbacks import ModelCheckpoint, CSVLogger, ReduceLROnPlateau, EarlyStopping\n",
    "from tensorflow.keras.regularizers import l2\n",
    "from sklearn.model_selection import train_test_split\n",
    "from sklearn.metrics import confusion_matrix, classification_report\n",
    "import matplotlib.pyplot as plt\n",
    "import seaborn as sns"
   ]
  },
  {
   "cell_type": "code",
   "execution_count": 2,
   "metadata": {},
   "outputs": [
    {
     "name": "stdout",
     "output_type": "stream",
     "text": [
      "Does DATA_DIR exist? True\n",
      "Error: DATA_DIR does not exist! Please check the folder path.\n",
      "Found 12639 images belonging to 3 classes.\n",
      "Found 1114 images belonging to 3 classes.\n",
      "Found 1118 images belonging to 3 classes.\n"
     ]
    }
   ],
   "source": [
    "# Directories\n",
    "DATA_DIR = r\"C:\\Users\\farah\\Desktop\\ModelsTypesRun\\new updates\"\n",
    "TRAIN_DIR = r\"C:\\Users\\farah\\Desktop\\ModelsTypesRun\\train_data3\"\n",
    "VAL_DIR = r\"C:\\Users\\farah\\Desktop\\ModelsTypesRun\\val_data3\"\n",
    "TEST_DIR = r\"C:\\Users\\farah\\Desktop\\ModelsTypesRun\\test_data3\"\n",
    "IMG_SIZE = (224, 224)  # EfficientNetB3 input size\n",
    "BATCH_SIZE = 16\n",
    "EPOCHS = 15\n",
    "MAX_IMAGES_PER_CLASS = 10000\n",
    "\n",
    "# Dataset Preparation\n",
    "def prepare_dataset(data_dir, train_dir, val_dir, test_dir, max_images_per_class, train_split=0.7, val_split=0.15):\n",
    "    for dir_path in [train_dir, val_dir, test_dir]:\n",
    "        if os.path.exists(dir_path):\n",
    "            shutil.rmtree(dir_path)\n",
    "        os.makedirs(dir_path, exist_ok=True)\n",
    "\n",
    "    for class_name in os.listdir(data_dir):\n",
    "        class_path = os.path.join(data_dir, class_name)\n",
    "        if os.path.isdir(class_path):\n",
    "            images = os.listdir(class_path)[:max_images_per_class]\n",
    "            train_images, test_images = train_test_split(images, train_size=train_split + val_split, random_state=42)\n",
    "            val_images, test_images = train_test_split(test_images, train_size=val_split / (1 - train_split), random_state=42)\n",
    "\n",
    "            train_class_dir = os.path.join(train_dir, class_name)\n",
    "            val_class_dir = os.path.join(val_dir, class_name)\n",
    "            test_class_dir = os.path.join(test_dir, class_name)\n",
    "            os.makedirs(train_class_dir, exist_ok=True)\n",
    "            os.makedirs(val_class_dir, exist_ok=True)\n",
    "            os.makedirs(test_class_dir, exist_ok=True)\n",
    "\n",
    "            for image in train_images:\n",
    "                shutil.copy(os.path.join(class_path, image), os.path.join(train_class_dir, image))\n",
    "            for image in val_images:\n",
    "                shutil.copy(os.path.join(class_path, image), os.path.join(val_class_dir, image))\n",
    "            for image in test_images:\n",
    "                shutil.copy(os.path.join(class_path, image), os.path.join(test_class_dir, image))\n",
    "\n",
    "\n",
    "\n",
    "# Check if the directory exists\n",
    "print(\"Does DATA_DIR exist?\", os.path.exists(r\"C:\\Users\\farah\\Desktop\\ModelsTypesRun\\new updates\"))\n",
    "\n",
    "# If it does not exist, print an error message\n",
    "if not os.path.exists(r\"C:\\Users\\farah\\Desktop\\ModelsTypesRun\\new_updates\"):\n",
    "    print(\"Error: DATA_DIR does not exist! Please check the folder path.\")\n",
    "\n",
    "# Call the function\n",
    "prepare_dataset(DATA_DIR, TRAIN_DIR, VAL_DIR, TEST_DIR, MAX_IMAGES_PER_CLASS)\n",
    "\n",
    "# Data Augmentation\n",
    "train_datagen = ImageDataGenerator(\n",
    "    rescale=1./255,\n",
    "    rotation_range=40,\n",
    "    width_shift_range=0.2,\n",
    "    height_shift_range=0.2,\n",
    "    shear_range=0.2,\n",
    "    zoom_range=0.3,\n",
    "    horizontal_flip=True,\n",
    "    fill_mode='nearest',\n",
    "    brightness_range=[0.8, 1.2],\n",
    "    channel_shift_range=50.0\n",
    ")\n",
    "\n",
    "val_datagen = ImageDataGenerator(rescale=1./255)\n",
    "test_datagen = ImageDataGenerator(rescale=1./255)\n",
    "\n",
    "train_gen = train_datagen.flow_from_directory(\n",
    "    TRAIN_DIR,\n",
    "    target_size=IMG_SIZE,\n",
    "    batch_size=BATCH_SIZE,\n",
    "    class_mode='categorical'\n",
    ")\n",
    "\n",
    "val_gen = val_datagen.flow_from_directory(\n",
    "    VAL_DIR,\n",
    "    target_size=IMG_SIZE,\n",
    "    batch_size=BATCH_SIZE,\n",
    "    class_mode='categorical',\n",
    "    shuffle=False\n",
    ")\n",
    "\n",
    "test_gen = test_datagen.flow_from_directory(\n",
    "    TEST_DIR,\n",
    "    target_size=IMG_SIZE,\n",
    "    batch_size=BATCH_SIZE,\n",
    "    class_mode='categorical',\n",
    "    shuffle=False\n",
    ")"
   ]
  },
  {
   "cell_type": "code",
   "execution_count": 3,
   "metadata": {},
   "outputs": [
    {
     "name": "stdout",
     "output_type": "stream",
     "text": [
      "Downloading data from https://storage.googleapis.com/keras-applications/efficientnetb3_notop.h5\n",
      "\u001b[1m43941136/43941136\u001b[0m \u001b[32m━━━━━━━━━━━━━━━━━━━━\u001b[0m\u001b[37m\u001b[0m \u001b[1m292s\u001b[0m 7us/step\n"
     ]
    },
    {
     "name": "stderr",
     "output_type": "stream",
     "text": [
      "c:\\Users\\farah\\AppData\\Local\\Programs\\Python\\Python311\\Lib\\site-packages\\keras\\src\\trainers\\data_adapters\\py_dataset_adapter.py:121: UserWarning: Your `PyDataset` class should call `super().__init__(**kwargs)` in its constructor. `**kwargs` can include `workers`, `use_multiprocessing`, `max_queue_size`. Do not pass these arguments to `fit()`, as they will be ignored.\n",
      "  self._warn_if_super_not_called()\n"
     ]
    },
    {
     "name": "stdout",
     "output_type": "stream",
     "text": [
      "Epoch 1/15\n",
      "\u001b[1m790/790\u001b[0m \u001b[32m━━━━━━━━━━━━━━━━━━━━\u001b[0m\u001b[37m\u001b[0m \u001b[1m945s\u001b[0m 1s/step - accuracy: 0.5127 - loss: 8.7137 - val_accuracy: 0.5305 - val_loss: 2.8181 - learning_rate: 1.0000e-04\n",
      "Epoch 2/15\n",
      "\u001b[1m790/790\u001b[0m \u001b[32m━━━━━━━━━━━━━━━━━━━━\u001b[0m\u001b[37m\u001b[0m \u001b[1m731s\u001b[0m 925ms/step - accuracy: 0.5276 - loss: 2.2514 - val_accuracy: 0.5305 - val_loss: 1.3308 - learning_rate: 1.0000e-04\n",
      "Epoch 3/15\n",
      "\u001b[1m790/790\u001b[0m \u001b[32m━━━━━━━━━━━━━━━━━━━━\u001b[0m\u001b[37m\u001b[0m \u001b[1m708s\u001b[0m 896ms/step - accuracy: 0.5297 - loss: 1.2503 - val_accuracy: 0.5305 - val_loss: 1.0916 - learning_rate: 1.0000e-04\n",
      "Epoch 4/15\n",
      "\u001b[1m790/790\u001b[0m \u001b[32m━━━━━━━━━━━━━━━━━━━━\u001b[0m\u001b[37m\u001b[0m \u001b[1m732s\u001b[0m 926ms/step - accuracy: 0.5286 - loss: 1.0749 - val_accuracy: 0.5305 - val_loss: 1.0078 - learning_rate: 1.0000e-04\n",
      "Epoch 5/15\n",
      "\u001b[1m790/790\u001b[0m \u001b[32m━━━━━━━━━━━━━━━━━━━━\u001b[0m\u001b[37m\u001b[0m \u001b[1m727s\u001b[0m 921ms/step - accuracy: 0.5319 - loss: 1.0213 - val_accuracy: 0.5305 - val_loss: 0.9990 - learning_rate: 1.0000e-04\n",
      "Epoch 6/15\n",
      "\u001b[1m790/790\u001b[0m \u001b[32m━━━━━━━━━━━━━━━━━━━━\u001b[0m\u001b[37m\u001b[0m \u001b[1m728s\u001b[0m 922ms/step - accuracy: 0.5364 - loss: 0.9993 - val_accuracy: 0.5305 - val_loss: 0.9860 - learning_rate: 1.0000e-04\n",
      "Epoch 7/15\n",
      "\u001b[1m790/790\u001b[0m \u001b[32m━━━━━━━━━━━━━━━━━━━━\u001b[0m\u001b[37m\u001b[0m \u001b[1m721s\u001b[0m 913ms/step - accuracy: 0.5264 - loss: 0.9881 - val_accuracy: 0.5305 - val_loss: 1.1365 - learning_rate: 1.0000e-04\n",
      "Epoch 8/15\n",
      "\u001b[1m790/790\u001b[0m \u001b[32m━━━━━━━━━━━━━━━━━━━━\u001b[0m\u001b[37m\u001b[0m \u001b[1m712s\u001b[0m 901ms/step - accuracy: 0.5309 - loss: 0.9783 - val_accuracy: 0.5314 - val_loss: 0.9553 - learning_rate: 1.0000e-04\n",
      "Epoch 9/15\n",
      "\u001b[1m790/790\u001b[0m \u001b[32m━━━━━━━━━━━━━━━━━━━━\u001b[0m\u001b[37m\u001b[0m \u001b[1m719s\u001b[0m 910ms/step - accuracy: 0.5407 - loss: 0.9705 - val_accuracy: 0.5305 - val_loss: 1.1688 - learning_rate: 1.0000e-04\n",
      "Epoch 10/15\n",
      "\u001b[1m790/790\u001b[0m \u001b[32m━━━━━━━━━━━━━━━━━━━━\u001b[0m\u001b[37m\u001b[0m \u001b[1m687s\u001b[0m 869ms/step - accuracy: 0.5420 - loss: 0.9674 - val_accuracy: 0.5332 - val_loss: 0.9462 - learning_rate: 1.0000e-04\n",
      "Epoch 11/15\n",
      "\u001b[1m790/790\u001b[0m \u001b[32m━━━━━━━━━━━━━━━━━━━━\u001b[0m\u001b[37m\u001b[0m \u001b[1m673s\u001b[0m 852ms/step - accuracy: 0.5600 - loss: 0.9600 - val_accuracy: 0.5503 - val_loss: 0.9338 - learning_rate: 1.0000e-04\n",
      "Epoch 12/15\n",
      "\u001b[1m790/790\u001b[0m \u001b[32m━━━━━━━━━━━━━━━━━━━━\u001b[0m\u001b[37m\u001b[0m \u001b[1m673s\u001b[0m 852ms/step - accuracy: 0.5546 - loss: 0.9623 - val_accuracy: 0.5332 - val_loss: 0.9888 - learning_rate: 1.0000e-04\n",
      "Epoch 13/15\n",
      "\u001b[1m790/790\u001b[0m \u001b[32m━━━━━━━━━━━━━━━━━━━━\u001b[0m\u001b[37m\u001b[0m \u001b[1m0s\u001b[0m 727ms/step - accuracy: 0.5558 - loss: 0.9630\n",
      "Epoch 13: ReduceLROnPlateau reducing learning rate to 4.999999873689376e-05.\n",
      "\u001b[1m790/790\u001b[0m \u001b[32m━━━━━━━━━━━━━━━━━━━━\u001b[0m\u001b[37m\u001b[0m \u001b[1m611s\u001b[0m 774ms/step - accuracy: 0.5558 - loss: 0.9630 - val_accuracy: 0.5314 - val_loss: 0.9893 - learning_rate: 1.0000e-04\n",
      "Epoch 14/15\n",
      "\u001b[1m790/790\u001b[0m \u001b[32m━━━━━━━━━━━━━━━━━━━━\u001b[0m\u001b[37m\u001b[0m \u001b[1m594s\u001b[0m 752ms/step - accuracy: 0.5606 - loss: 0.9532 - val_accuracy: 0.6355 - val_loss: 0.9250 - learning_rate: 5.0000e-05\n",
      "Epoch 15/15\n",
      "\u001b[1m790/790\u001b[0m \u001b[32m━━━━━━━━━━━━━━━━━━━━\u001b[0m\u001b[37m\u001b[0m \u001b[1m583s\u001b[0m 737ms/step - accuracy: 0.5621 - loss: 0.9523 - val_accuracy: 0.5323 - val_loss: 1.1621 - learning_rate: 5.0000e-05\n"
     ]
    }
   ],
   "source": [
    "\n",
    "# Model Definition\n",
    "base_model = EfficientNetB3(weights='imagenet', include_top=False, input_shape=(*IMG_SIZE, 3))\n",
    "for layer in base_model.layers[:-20]:  # Freeze all layers except the last 20\n",
    "    layer.trainable = False\n",
    "\n",
    "x = base_model.output\n",
    "x = GlobalAveragePooling2D()(x)\n",
    "x = Dense(512, activation='relu', kernel_regularizer=l2(0.01))(x)\n",
    "x = Dropout(0.5)(x)\n",
    "x = Dense(256, activation='relu', kernel_regularizer=l2(0.01))(x)\n",
    "x = Dropout(0.4)(x)\n",
    "predictions = Dense(train_gen.num_classes, activation='softmax')(x)\n",
    "model = Model(inputs=base_model.input, outputs=predictions)\n",
    "\n",
    "# Compile the Model\n",
    "model.compile(optimizer=tf.keras.optimizers.Adam(learning_rate=0.0001),\n",
    "              loss='categorical_crossentropy',\n",
    "              metrics=['accuracy'])\n",
    "\n",
    "# Callbacks\n",
    "checkpoint = ModelCheckpoint(\n",
    "    filepath=os.path.join(r\"C:\\Users\\farah\\Desktop\\ModelsTypesRun\", \"efficientnet_model_epoch_{epoch:02d}.keras\"),\n",
    "    save_best_only=True,\n",
    "    monitor='val_accuracy',\n",
    "    mode='max'\n",
    ")\n",
    "csv_logger = CSVLogger(os.path.join(r\"C:\\Users\\farah\\Desktop\\ModelsTypesRun\", 'efficientnet_training_log.csv'))\n",
    "lr_scheduler = ReduceLROnPlateau(\n",
    "    monitor='val_loss',\n",
    "    factor=0.5,\n",
    "    patience=2,\n",
    "    verbose=1,\n",
    "    min_lr=1e-6\n",
    ")\n",
    "early_stopping = EarlyStopping(\n",
    "    monitor='val_loss',\n",
    "    patience=5,\n",
    "    restore_best_weights=True\n",
    ")\n",
    "\n",
    "# Train the Model\n",
    "history = model.fit(\n",
    "    train_gen,\n",
    "    validation_data=val_gen,\n",
    "    epochs=EPOCHS,\n",
    "    callbacks=[checkpoint, csv_logger, lr_scheduler, early_stopping]\n",
    ")\n",
    "\n",
    "# Save the Final Model\n",
    "model.save(os.path.join(r\"C:\\Users\\farah\\Desktop\\ModelsTypesRun\", \"efficientnet_final_model.keras\"))"
   ]
  },
  {
   "cell_type": "code",
   "execution_count": 4,
   "metadata": {},
   "outputs": [
    {
     "name": "stdout",
     "output_type": "stream",
     "text": [
      "\u001b[1m70/70\u001b[0m \u001b[32m━━━━━━━━━━━━━━━━━━━━\u001b[0m\u001b[37m\u001b[0m \u001b[1m42s\u001b[0m 594ms/step - accuracy: 0.7174 - loss: 0.7685\n",
      "EfficientNetB3 Test Accuracy: 0.64\n",
      "\u001b[1m70/70\u001b[0m \u001b[32m━━━━━━━━━━━━━━━━━━━━\u001b[0m\u001b[37m\u001b[0m \u001b[1m42s\u001b[0m 568ms/step\n"
     ]
    },
    {
     "data": {
      "image/png": "[encoded data removed]",
      "text/plain": [
       "<Figure size 1000x800 with 2 Axes>"
      ]
     },
     "metadata": {},
     "output_type": "display_data"
    },
    {
     "name": "stdout",
     "output_type": "stream",
     "text": [
      "              precision    recall  f1-score   support\n",
      "\n",
      "    new mild       0.73      0.79      0.76       592\n",
      "new moderate       0.00      0.00      0.00       191\n",
      "  new severe       0.51      0.72      0.59       335\n",
      "\n",
      "    accuracy                           0.64      1118\n",
      "   macro avg       0.41      0.50      0.45      1118\n",
      "weighted avg       0.54      0.64      0.58      1118\n",
      "\n"
     ]
    },
    {
     "name": "stderr",
     "output_type": "stream",
     "text": [
      "c:\\Users\\farah\\AppData\\Local\\Programs\\Python\\Python311\\Lib\\site-packages\\sklearn\\metrics\\_classification.py:1471: UndefinedMetricWarning: Precision and F-score are ill-defined and being set to 0.0 in labels with no predicted samples. Use `zero_division` parameter to control this behavior.\n",
      "  _warn_prf(average, modifier, msg_start, len(result))\n",
      "c:\\Users\\farah\\AppData\\Local\\Programs\\Python\\Python311\\Lib\\site-packages\\sklearn\\metrics\\_classification.py:1471: UndefinedMetricWarning: Precision and F-score are ill-defined and being set to 0.0 in labels with no predicted samples. Use `zero_division` parameter to control this behavior.\n",
      "  _warn_prf(average, modifier, msg_start, len(result))\n",
      "c:\\Users\\farah\\AppData\\Local\\Programs\\Python\\Python311\\Lib\\site-packages\\sklearn\\metrics\\_classification.py:1471: UndefinedMetricWarning: Precision and F-score are ill-defined and being set to 0.0 in labels with no predicted samples. Use `zero_division` parameter to control this behavior.\n",
      "  _warn_prf(average, modifier, msg_start, len(result))\n"
     ]
    }
   ],
   "source": [
    "\n",
    "# Evaluate the Model\n",
    "test_gen.reset()\n",
    "test_loss, test_accuracy = model.evaluate(test_gen)\n",
    "print(f\"EfficientNetB3 Test Accuracy: {test_accuracy:.2f}\")\n",
    "\n",
    "# Predictions and Metrics\n",
    "test_gen.reset()\n",
    "preds = model.predict(test_gen)\n",
    "y_pred = np.argmax(preds, axis=1)\n",
    "y_true = test_gen.classes\n",
    "cm = confusion_matrix(y_true, y_pred)\n",
    "\n",
    "plt.figure(figsize=(10, 8))\n",
    "sns.heatmap(cm, annot=True, fmt=\"d\", cmap=\"Blues\", xticklabels=train_gen.class_indices.keys(), yticklabels=train_gen.class_indices.keys())\n",
    "plt.title(\"EfficientNet Confusion Matrix\")\n",
    "plt.xlabel(\"Predicted\")\n",
    "plt.ylabel(\"True\")\n",
    "plt.show()\n",
    "\n",
    "print(classification_report(y_true, y_pred, target_names=train_gen.class_indices.keys()))\n"
   ]
  }
 ],
 "metadata": {
  "kernelspec": {
   "display_name": "Python 3",
   "language": "python",
   "name": "python3"
  },
  "language_info": {
   "codemirror_mode": {
    "name": "ipython",
    "version": 3
   },
   "file_extension": ".py",
   "mimetype": "text/x-python",
   "name": "python",
   "nbconvert_exporter": "python",
   "pygments_lexer": "ipython3",
   "version": "3.11.4"
  }
 },
 "nbformat": 4,
 "nbformat_minor": 2
}

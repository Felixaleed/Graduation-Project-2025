{
 "cells": [
  {
   "cell_type": "code",
   "execution_count": 1,
   "metadata": {},
   "outputs": [],
   "source": [
    "import os\n",
    "import shutil\n",
    "import numpy as np\n",
    "import tensorflow as tf\n",
    "from tensorflow.keras.preprocessing.image import ImageDataGenerator\n",
    "from tensorflow.keras.applications import ResNet101V2\n",
    "from tensorflow.keras.models import Model\n",
    "from tensorflow.keras.layers import Dense, GlobalAveragePooling2D, Dropout\n",
    "from tensorflow.keras.callbacks import ModelCheckpoint, CSVLogger, ReduceLROnPlateau\n",
    "from tensorflow.keras.regularizers import l2\n",
    "from sklearn.model_selection import train_test_split\n",
    "from sklearn.metrics import confusion_matrix, classification_report\n",
    "import matplotlib.pyplot as plt\n",
    "import seaborn as sns"
   ]
  },
  {
   "cell_type": "code",
   "execution_count": 2,
   "metadata": {},
   "outputs": [],
   "source": [
    "# Directories\n",
    "DATA_DIR = r\"C:\\Users\\farah\\Desktop\\modelsRun\\archive\" \n",
    "TRAIN_DIR = r\"C:\\Users\\farah\\Desktop\\modelsRun\\train_data2\"\n",
    "TEST_DIR = r\"C:\\Users\\farah\\Desktop\\modelsRun\\test_data2\"\n",
    "IMG_SIZE = (224, 224)  # DenseNet requirement\n",
    "BATCH_SIZE = 16\n",
    "EPOCHS = 10\n",
    "MAX_IMAGES_PER_CLASS = 16000\n"
   ]
  },
  {
   "cell_type": "code",
   "execution_count": 3,
   "metadata": {},
   "outputs": [],
   "source": [
    "def prepare_dataset(data_dir, train_dir, test_dir, max_images_per_class, train_split=0.8):\n",
    "    for dir_path in [train_dir, test_dir]:\n",
    "        if os.path.exists(dir_path):\n",
    "            shutil.rmtree(dir_path)\n",
    "        os.makedirs(dir_path, exist_ok=True)\n",
    "\n",
    "    for class_name in os.listdir(data_dir):\n",
    "        class_path = os.path.join(data_dir, class_name)\n",
    "        if os.path.isdir(class_path):\n",
    "            images = os.listdir(class_path)[:max_images_per_class]\n",
    "            train_images, test_images = train_test_split(images, train_size=train_split, random_state=42)\n",
    "\n",
    "            train_class_dir = os.path.join(train_dir, class_name)\n",
    "            test_class_dir = os.path.join(test_dir, class_name)\n",
    "            os.makedirs(train_class_dir, exist_ok=True)\n",
    "            os.makedirs(test_class_dir, exist_ok=True)\n",
    "\n",
    "            for image in train_images:\n",
    "                shutil.copy(os.path.join(class_path, image), os.path.join(train_class_dir, image))\n",
    "            for image in test_images:\n",
    "                shutil.copy(os.path.join(class_path, image), os.path.join(test_class_dir, image))"
   ]
  },
  {
   "cell_type": "code",
   "execution_count": 4,
   "metadata": {},
   "outputs": [
    {
     "name": "stdout",
     "output_type": "stream",
     "text": [
      "Found 46664 images belonging to 4 classes.\n",
      "Found 11667 images belonging to 4 classes.\n"
     ]
    }
   ],
   "source": [
    "prepare_dataset(DATA_DIR, TRAIN_DIR, TEST_DIR, MAX_IMAGES_PER_CLASS)\n",
    "\n",
    "datagen = ImageDataGenerator(\n",
    "    rescale=1./255,\n",
    "    rotation_range=40,\n",
    "    width_shift_range=0.2,\n",
    "    height_shift_range=0.2,\n",
    "    shear_range=0.2,\n",
    "    zoom_range=0.3,\n",
    "    horizontal_flip=True,\n",
    "    fill_mode='nearest'\n",
    ")\n",
    "\n",
    "train_gen = datagen.flow_from_directory(\n",
    "    TRAIN_DIR,\n",
    "    target_size=IMG_SIZE,\n",
    "    batch_size=BATCH_SIZE,\n",
    "    class_mode='categorical'\n",
    ")\n",
    "\n",
    "test_gen = datagen.flow_from_directory(\n",
    "    TEST_DIR,\n",
    "    target_size=IMG_SIZE,\n",
    "    batch_size=BATCH_SIZE,\n",
    "    class_mode='categorical',\n",
    "    shuffle=False\n",
    ")"
   ]
  },
  {
   "cell_type": "code",
   "execution_count": 5,
   "metadata": {},
   "outputs": [
    {
     "name": "stdout",
     "output_type": "stream",
     "text": [
      "Downloading data from https://storage.googleapis.com/tensorflow/keras-applications/resnet/resnet101v2_weights_tf_dim_ordering_tf_kernels_notop.h5\n",
      "\u001b[1m171317808/171317808\u001b[0m \u001b[32m━━━━━━━━━━━━━━━━━━━━\u001b[0m\u001b[37m\u001b[0m \u001b[1m1231s\u001b[0m 7us/step\n"
     ]
    }
   ],
   "source": [
    "# Load ResNet101V2 base model\n",
    "base_model = ResNet101V2(weights='imagenet', include_top=False, input_shape=(*IMG_SIZE, 3))\n",
    "\n",
    "# Fine-tune layers\n",
    "for layer in base_model.layers[:-20]:  # Freeze all but the last 20 layers\n",
    "    layer.trainable = False"
   ]
  },
  {
   "cell_type": "code",
   "execution_count": 6,
   "metadata": {},
   "outputs": [],
   "source": [
    "x = base_model.output\n",
    "x = GlobalAveragePooling2D()(x)\n",
    "x = Dense(512, activation='relu', kernel_regularizer=l2(0.01))(x)\n",
    "x = Dropout(0.5)(x)\n",
    "x = Dense(256, activation='relu', kernel_regularizer=l2(0.01))(x)\n",
    "x = Dropout(0.4)(x)\n"
   ]
  },
  {
   "cell_type": "code",
   "execution_count": 7,
   "metadata": {},
   "outputs": [],
   "source": [
    "predictions = Dense(train_gen.num_classes, activation='softmax')(x)\n",
    "model = Model(inputs=base_model.input, outputs=predictions)\n",
    "\n",
    "# Compile the model\n",
    "model.compile(optimizer=tf.keras.optimizers.Adam(learning_rate=0.0001),\n",
    "              loss='categorical_crossentropy',\n",
    "              metrics=['accuracy'])\n"
   ]
  },
  {
   "cell_type": "code",
   "execution_count": 8,
   "metadata": {},
   "outputs": [
    {
     "name": "stderr",
     "output_type": "stream",
     "text": [
      "c:\\Users\\farah\\AppData\\Local\\Programs\\Python\\Python311\\Lib\\site-packages\\keras\\src\\trainers\\data_adapters\\py_dataset_adapter.py:121: UserWarning: Your `PyDataset` class should call `super().__init__(**kwargs)` in its constructor. `**kwargs` can include `workers`, `use_multiprocessing`, `max_queue_size`. Do not pass these arguments to `fit()`, as they will be ignored.\n",
      "  self._warn_if_super_not_called()\n"
     ]
    },
    {
     "name": "stdout",
     "output_type": "stream",
     "text": [
      "Epoch 1/10\n",
      "\u001b[1m2917/2917\u001b[0m \u001b[32m━━━━━━━━━━━━━━━━━━━━\u001b[0m\u001b[37m\u001b[0m \u001b[1m5369s\u001b[0m 2s/step - accuracy: 0.6966 - loss: 7.0010 - val_accuracy: 0.8516 - val_loss: 0.9969 - learning_rate: 1.0000e-04\n",
      "Epoch 2/10\n",
      "\u001b[1m2917/2917\u001b[0m \u001b[32m━━━━━━━━━━━━━━━━━━━━\u001b[0m\u001b[37m\u001b[0m \u001b[1m5185s\u001b[0m 2s/step - accuracy: 0.8388 - loss: 0.8125 - val_accuracy: 0.8736 - val_loss: 0.4418 - learning_rate: 1.0000e-04\n",
      "Epoch 3/10\n",
      "\u001b[1m2917/2917\u001b[0m \u001b[32m━━━━━━━━━━━━━━━━━━━━\u001b[0m\u001b[37m\u001b[0m \u001b[1m5132s\u001b[0m 2s/step - accuracy: 0.8622 - loss: 0.4576 - val_accuracy: 0.8930 - val_loss: 0.3504 - learning_rate: 1.0000e-04\n",
      "Epoch 4/10\n",
      "\u001b[1m2917/2917\u001b[0m \u001b[32m━━━━━━━━━━━━━━━━━━━━\u001b[0m\u001b[37m\u001b[0m \u001b[1m5160s\u001b[0m 2s/step - accuracy: 0.8818 - loss: 0.3842 - val_accuracy: 0.8992 - val_loss: 0.3284 - learning_rate: 1.0000e-04\n",
      "Epoch 5/10\n",
      "\u001b[1m2917/2917\u001b[0m \u001b[32m━━━━━━━━━━━━━━━━━━━━\u001b[0m\u001b[37m\u001b[0m \u001b[1m5155s\u001b[0m 2s/step - accuracy: 0.8930 - loss: 0.3463 - val_accuracy: 0.9021 - val_loss: 0.3232 - learning_rate: 1.0000e-04\n",
      "Epoch 6/10\n",
      "\u001b[1m2917/2917\u001b[0m \u001b[32m━━━━━━━━━━━━━━━━━━━━\u001b[0m\u001b[37m\u001b[0m \u001b[1m5128s\u001b[0m 2s/step - accuracy: 0.9038 - loss: 0.3157 - val_accuracy: 0.9053 - val_loss: 0.3064 - learning_rate: 1.0000e-04\n",
      "Epoch 7/10\n",
      "\u001b[1m2917/2917\u001b[0m \u001b[32m━━━━━━━━━━━━━━━━━━━━\u001b[0m\u001b[37m\u001b[0m \u001b[1m5133s\u001b[0m 2s/step - accuracy: 0.9099 - loss: 0.2985 - val_accuracy: 0.9162 - val_loss: 0.2816 - learning_rate: 1.0000e-04\n",
      "Epoch 8/10\n",
      "\u001b[1m2917/2917\u001b[0m \u001b[32m━━━━━━━━━━━━━━━━━━━━\u001b[0m\u001b[37m\u001b[0m \u001b[1m5381s\u001b[0m 2s/step - accuracy: 0.9193 - loss: 0.2727 - val_accuracy: 0.9199 - val_loss: 0.2679 - learning_rate: 1.0000e-04\n",
      "Epoch 9/10\n",
      "\u001b[1m2917/2917\u001b[0m \u001b[32m━━━━━━━━━━━━━━━━━━━━\u001b[0m\u001b[37m\u001b[0m \u001b[1m5234s\u001b[0m 2s/step - accuracy: 0.9196 - loss: 0.2683 - val_accuracy: 0.9192 - val_loss: 0.2796 - learning_rate: 1.0000e-04\n",
      "Epoch 10/10\n",
      "\u001b[1m2917/2917\u001b[0m \u001b[32m━━━━━━━━━━━━━━━━━━━━\u001b[0m\u001b[37m\u001b[0m \u001b[1m5225s\u001b[0m 2s/step - accuracy: 0.9260 - loss: 0.2507 - val_accuracy: 0.9217 - val_loss: 0.2662 - learning_rate: 1.0000e-04\n"
     ]
    }
   ],
   "source": [
    "\n",
    "checkpoint = ModelCheckpoint(\n",
    "    filepath=os.path.join(r\"C:\\Users\\farah\\Desktop\\modelsRun\", \"ResNet101V2_model_epoch_{epoch:02d}.keras\"),\n",
    "    save_best_only=True,\n",
    "    monitor='val_accuracy',\n",
    "    mode='max'\n",
    ")\n",
    "csv_logger = CSVLogger(os.path.join(r\"C:\\Users\\farah\\Desktop\\modelsRun\", 'ResNet101V2_training_log.csv'))\n",
    "lr_scheduler = ReduceLROnPlateau(\n",
    "    monitor='val_loss',\n",
    "    factor=0.5,\n",
    "    patience=2,\n",
    "    verbose=1,\n",
    "    min_lr=1e-6\n",
    ")\n",
    "\n",
    "history = model.fit(\n",
    "    train_gen,\n",
    "    validation_data=test_gen,\n",
    "    epochs=EPOCHS,\n",
    "    callbacks=[checkpoint, csv_logger, lr_scheduler]\n",
    ")"
   ]
  },
  {
   "cell_type": "code",
   "execution_count": 9,
   "metadata": {},
   "outputs": [
    {
     "name": "stdout",
     "output_type": "stream",
     "text": [
      "\u001b[1m730/730\u001b[0m \u001b[32m━━━━━━━━━━━━━━━━━━━━\u001b[0m\u001b[37m\u001b[0m \u001b[1m936s\u001b[0m 1s/step - accuracy: 0.8721 - loss: 0.4162\n",
      "ResNet101V2 Test Accuracy: 0.92\n",
      "\u001b[1m730/730\u001b[0m \u001b[32m━━━━━━━━━━━━━━━━━━━━\u001b[0m\u001b[37m\u001b[0m \u001b[1m953s\u001b[0m 1s/step\n"
     ]
    },
    {
     "data": {
      "image/png": "[encoded data removed]",
      "text/plain": [
       "<Figure size 1000x800 with 2 Axes>"
      ]
     },
     "metadata": {},
     "output_type": "display_data"
    },
    {
     "name": "stdout",
     "output_type": "stream",
     "text": [
      "                  precision    recall  f1-score   support\n",
      "\n",
      "          Eczema       0.93      0.89      0.91      3200\n",
      "atopic dematitis       0.87      0.88      0.87      2292\n",
      "          normal       0.97      0.99      0.98      3200\n",
      "       psoriasis       0.91      0.92      0.91      2975\n",
      "\n",
      "        accuracy                           0.92     11667\n",
      "       macro avg       0.92      0.92      0.92     11667\n",
      "    weighted avg       0.92      0.92      0.92     11667\n",
      "\n"
     ]
    }
   ],
   "source": [
    "model.save(os.path.join(r\"C:\\Users\\farah\\Desktop\\modelsRun\", \"ResNet101V2_final_model.keras\"))\n",
    "\n",
    "test_gen.reset()\n",
    "test_loss, test_accuracy = model.evaluate(test_gen)\n",
    "print(f\"ResNet101V2 Test Accuracy: {test_accuracy:.2f}\")\n",
    "\n",
    "test_gen.reset()\n",
    "preds = model.predict(test_gen)\n",
    "y_pred = np.argmax(preds, axis=1)\n",
    "y_true = test_gen.classes\n",
    "cm = confusion_matrix(y_true, y_pred)\n",
    "\n",
    "plt.figure(figsize=(10, 8))\n",
    "sns.heatmap(cm, annot=True, fmt=\"d\", cmap=\"Blues\", xticklabels=train_gen.class_indices.keys(), yticklabels=train_gen.class_indices.keys())\n",
    "plt.title(\"ResNet101V2 Confusion Matrix\")\n",
    "plt.xlabel(\"Predicted\")\n",
    "plt.ylabel(\"True\")\n",
    "plt.show()\n",
    "\n",
    "print(classification_report(y_true, y_pred, target_names=train_gen.class_indices.keys()))\n"
   ]
  }
 ],
 "metadata": {
  "kernelspec": {
   "display_name": "Python 3",
   "language": "python",
   "name": "python3"
  },
  "language_info": {
   "codemirror_mode": {
    "name": "ipython",
    "version": 3
   },
   "file_extension": ".py",
   "mimetype": "text/x-python",
   "name": "python",
   "nbconvert_exporter": "python",
   "pygments_lexer": "ipython3",
   "version": "3.11.4"
  }
 },
 "nbformat": 4,
 "nbformat_minor": 2
}

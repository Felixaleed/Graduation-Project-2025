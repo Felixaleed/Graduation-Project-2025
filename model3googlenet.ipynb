{
 "cells": [
  {
   "cell_type": "code",
   "execution_count": 1,
   "metadata": {
    "_cell_guid": "b1076dfc-b9ad-4769-8c92-a6c4dae69d19",
    "_uuid": "8f2839f25d086af736a60e9eeb907d3b93b6e0e5",
    "execution": {
     "iopub.execute_input": "2025-01-07T12:21:19.678218Z",
     "iopub.status.busy": "2025-01-07T12:21:19.677818Z",
     "iopub.status.idle": "2025-01-07T12:21:28.110166Z",
     "shell.execute_reply": "2025-01-07T12:21:28.109258Z",
     "shell.execute_reply.started": "2025-01-07T12:21:19.678183Z"
    },
    "trusted": true
   },
   "outputs": [],
   "source": [
    "import os\n",
    "import shutil\n",
    "import numpy as np\n",
    "import tensorflow as tf\n",
    "from tensorflow.keras.preprocessing.image import ImageDataGenerator\n",
    "from tensorflow.keras.applications import InceptionV3\n",
    "from tensorflow.keras.models import Model\n",
    "from tensorflow.keras.layers import Dense, GlobalAveragePooling2D, Dropout\n",
    "from tensorflow.keras.callbacks import ModelCheckpoint, CSVLogger, ReduceLROnPlateau\n",
    "from tensorflow.keras.regularizers import l2\n",
    "from sklearn.metrics import confusion_matrix, classification_report, accuracy_score\n",
    "from sklearn.model_selection import train_test_split\n",
    "import matplotlib.pyplot as plt\n",
    "import seaborn as sns"
   ]
  },
  {
   "cell_type": "code",
   "execution_count": null,
   "metadata": {},
   "outputs": [],
   "source": [
    "pip install torch torchvision torchaudio --index-url https://download.pytorch.org/whl/cu118\n"
   ]
  },
  {
   "cell_type": "code",
   "execution_count": 2,
   "metadata": {
    "execution": {
     "iopub.execute_input": "2025-01-07T12:21:28.111765Z",
     "iopub.status.busy": "2025-01-07T12:21:28.111338Z",
     "iopub.status.idle": "2025-01-07T12:21:28.115689Z",
     "shell.execute_reply": "2025-01-07T12:21:28.114902Z",
     "shell.execute_reply.started": "2025-01-07T12:21:28.111733Z"
    },
    "trusted": true
   },
   "outputs": [],
   "source": [
    "DATA_DIR = \"/kaggle/input/graddataset\"  # Original dataset\n",
    "TRAIN_DIR = \"/kaggle/working/train_data\"  # Training data\n",
    "TEST_DIR = \"/kaggle/working/test_data\"  # Testing data\n",
    "IMG_SIZE = (299, 299)  # Required for InceptionV3\n",
    "BATCH_SIZE = 16\n",
    "EPOCHS = 10\n",
    "MAX_IMAGES_PER_CLASS = 16000  # Limit to 16k images per class"
   ]
  },
  {
   "cell_type": "code",
   "execution_count": 3,
   "metadata": {
    "execution": {
     "iopub.execute_input": "2025-01-07T12:21:28.117556Z",
     "iopub.status.busy": "2025-01-07T12:21:28.117339Z",
     "iopub.status.idle": "2025-01-07T12:21:28.138951Z",
     "shell.execute_reply": "2025-01-07T12:21:28.137948Z",
     "shell.execute_reply.started": "2025-01-07T12:21:28.117536Z"
    },
    "trusted": true
   },
   "outputs": [],
   "source": [
    "def prepare_dataset(data_dir, train_dir, test_dir, max_images_per_class, train_split=0.8):\n",
    "    # Clear existing directories\n",
    "    for dir_path in [train_dir, test_dir]:\n",
    "        if os.path.exists(dir_path):\n",
    "            shutil.rmtree(dir_path)\n",
    "        os.makedirs(dir_path, exist_ok=True)\n",
    "\n",
    "    # Process each class\n",
    "    for class_name in os.listdir(data_dir):\n",
    "        class_path = os.path.join(data_dir, class_name)\n",
    "        if os.path.isdir(class_path):\n",
    "            # Limit images to max_images_per_class\n",
    "            images = os.listdir(class_path)[:max_images_per_class]\n",
    "            train_images, test_images = train_test_split(images, train_size=train_split, random_state=42)\n",
    "\n",
    "            # Create class directories in train and test folders\n",
    "            train_class_dir = os.path.join(train_dir, class_name)\n",
    "            test_class_dir = os.path.join(test_dir, class_name)\n",
    "            os.makedirs(train_class_dir, exist_ok=True)\n",
    "            os.makedirs(test_class_dir, exist_ok=True)\n",
    "\n",
    "            # Copy images to train and test directories\n",
    "            for image in train_images:\n",
    "                shutil.copy(os.path.join(class_path, image), os.path.join(train_class_dir, image))\n",
    "            for image in test_images:\n",
    "                shutil.copy(os.path.join(class_path, image), os.path.join(test_class_dir, image))"
   ]
  },
  {
   "cell_type": "code",
   "execution_count": 4,
   "metadata": {
    "execution": {
     "iopub.execute_input": "2025-01-07T12:21:28.140699Z",
     "iopub.status.busy": "2025-01-07T12:21:28.140398Z",
     "iopub.status.idle": "2025-01-07T12:28:25.520960Z",
     "shell.execute_reply": "2025-01-07T12:28:25.520002Z",
     "shell.execute_reply.started": "2025-01-07T12:21:28.140670Z"
    },
    "trusted": true
   },
   "outputs": [],
   "source": [
    "prepare_dataset(DATA_DIR, TRAIN_DIR, TEST_DIR, MAX_IMAGES_PER_CLASS)\n",
    "\n",
    "# Step 2: Data Augmentation and Generators\n",
    "datagen = ImageDataGenerator(\n",
    "    rescale=1./255,\n",
    "    rotation_range=40,\n",
    "    width_shift_range=0.2,\n",
    "    height_shift_range=0.2,\n",
    "    shear_range=0.2,\n",
    "    zoom_range=0.3,\n",
    "    horizontal_flip=True,\n",
    "    fill_mode='nearest'\n",
    ")"
   ]
  },
  {
   "cell_type": "code",
   "execution_count": 5,
   "metadata": {
    "execution": {
     "iopub.execute_input": "2025-01-07T12:28:25.522303Z",
     "iopub.status.busy": "2025-01-07T12:28:25.521992Z",
     "iopub.status.idle": "2025-01-07T12:28:26.388710Z",
     "shell.execute_reply": "2025-01-07T12:28:26.387740Z",
     "shell.execute_reply.started": "2025-01-07T12:28:25.522270Z"
    },
    "trusted": true
   },
   "outputs": [
    {
     "name": "stdout",
     "output_type": "stream",
     "text": [
      "Found 46665 images belonging to 4 classes.\n"
     ]
    }
   ],
   "source": [
    "train_gen = datagen.flow_from_directory(\n",
    "    TRAIN_DIR,\n",
    "    target_size=IMG_SIZE,\n",
    "    batch_size=BATCH_SIZE,\n",
    "    class_mode='categorical'\n",
    ")\n"
   ]
  },
  {
   "cell_type": "code",
   "execution_count": 6,
   "metadata": {
    "execution": {
     "iopub.execute_input": "2025-01-07T12:28:26.389993Z",
     "iopub.status.busy": "2025-01-07T12:28:26.389655Z",
     "iopub.status.idle": "2025-01-07T12:28:26.628935Z",
     "shell.execute_reply": "2025-01-07T12:28:26.628014Z",
     "shell.execute_reply.started": "2025-01-07T12:28:26.389963Z"
    },
    "trusted": true
   },
   "outputs": [
    {
     "name": "stdout",
     "output_type": "stream",
     "text": [
      "Found 11666 images belonging to 4 classes.\n"
     ]
    }
   ],
   "source": [
    "test_gen = datagen.flow_from_directory(\n",
    "    TEST_DIR,\n",
    "    target_size=IMG_SIZE,\n",
    "    batch_size=BATCH_SIZE,\n",
    "    class_mode='categorical',\n",
    "    shuffle=False  # Disable shuffle to align predictions with labels\n",
    ")"
   ]
  },
  {
   "cell_type": "code",
   "execution_count": 7,
   "metadata": {
    "execution": {
     "iopub.execute_input": "2025-01-07T12:28:26.630184Z",
     "iopub.status.busy": "2025-01-07T12:28:26.629811Z",
     "iopub.status.idle": "2025-01-07T12:28:33.185801Z",
     "shell.execute_reply": "2025-01-07T12:28:33.184911Z",
     "shell.execute_reply.started": "2025-01-07T12:28:26.630146Z"
    },
    "trusted": true
   },
   "outputs": [
    {
     "name": "stdout",
     "output_type": "stream",
     "text": [
      "Downloading data from https://storage.googleapis.com/tensorflow/keras-applications/inception_v3/inception_v3_weights_tf_dim_ordering_tf_kernels_notop.h5\n",
      "\u001b[1m87910968/87910968\u001b[0m \u001b[32m━━━━━━━━━━━━━━━━━━━━\u001b[0m\u001b[37m\u001b[0m \u001b[1m4s\u001b[0m 0us/step\n"
     ]
    }
   ],
   "source": [
    "base_model = InceptionV3(weights='imagenet', include_top=False, input_shape=(*IMG_SIZE, 3))\n",
    "\n",
    "# Fine-tune layers\n",
    "for layer in base_model.layers[:-20]:  # Freeze all but the last 20 layers\n",
    "    layer.trainable = False"
   ]
  },
  {
   "cell_type": "code",
   "execution_count": 8,
   "metadata": {
    "execution": {
     "iopub.execute_input": "2025-01-07T12:28:33.188440Z",
     "iopub.status.busy": "2025-01-07T12:28:33.188190Z",
     "iopub.status.idle": "2025-01-07T12:28:33.222075Z",
     "shell.execute_reply": "2025-01-07T12:28:33.221429Z",
     "shell.execute_reply.started": "2025-01-07T12:28:33.188418Z"
    },
    "trusted": true
   },
   "outputs": [],
   "source": [
    "x = base_model.output\n",
    "x = GlobalAveragePooling2D()(x)\n",
    "x = Dense(512, activation='relu', kernel_regularizer=l2(0.01))(x)\n",
    "x = Dropout(0.5)(x)\n",
    "x = Dense(256, activation='relu', kernel_regularizer=l2(0.01))(x)\n",
    "x = Dropout(0.4)(x)\n",
    "predictions = Dense(train_gen.num_classes, activation='softmax')(x)"
   ]
  },
  {
   "cell_type": "code",
   "execution_count": 9,
   "metadata": {
    "execution": {
     "iopub.execute_input": "2025-01-07T12:28:33.223216Z",
     "iopub.status.busy": "2025-01-07T12:28:33.223000Z",
     "iopub.status.idle": "2025-01-07T12:28:33.250264Z",
     "shell.execute_reply": "2025-01-07T12:28:33.249654Z",
     "shell.execute_reply.started": "2025-01-07T12:28:33.223197Z"
    },
    "trusted": true
   },
   "outputs": [],
   "source": [
    "model = Model(inputs=base_model.input, outputs=predictions)\n",
    "\n",
    "# Step 4: Compile Model\n",
    "model.compile(optimizer=tf.keras.optimizers.Adam(learning_rate=0.0001),\n",
    "              loss='categorical_crossentropy',\n",
    "              metrics=['accuracy'])"
   ]
  },
  {
   "cell_type": "code",
   "execution_count": 10,
   "metadata": {
    "execution": {
     "iopub.execute_input": "2025-01-07T12:28:33.251536Z",
     "iopub.status.busy": "2025-01-07T12:28:33.251280Z",
     "iopub.status.idle": "2025-01-07T12:28:33.254993Z",
     "shell.execute_reply": "2025-01-07T12:28:33.254140Z",
     "shell.execute_reply.started": "2025-01-07T12:28:33.251513Z"
    },
    "trusted": true
   },
   "outputs": [],
   "source": [
    "# Step 5: Callbacks\n",
    "checkpoint = ModelCheckpoint(\n",
    "    filepath=os.path.join(\"/kaggle/working\", \"inceptionv3_model_epoch_{epoch:02d}.keras\"),\n",
    "    save_best_only=True,\n",
    "    monitor='val_accuracy',\n",
    "    mode='max'\n",
    ")"
   ]
  },
  {
   "cell_type": "code",
   "execution_count": 11,
   "metadata": {
    "execution": {
     "iopub.execute_input": "2025-01-07T12:28:33.256141Z",
     "iopub.status.busy": "2025-01-07T12:28:33.255909Z",
     "iopub.status.idle": "2025-01-07T12:28:33.268385Z",
     "shell.execute_reply": "2025-01-07T12:28:33.267673Z",
     "shell.execute_reply.started": "2025-01-07T12:28:33.256121Z"
    },
    "trusted": true
   },
   "outputs": [],
   "source": [
    "csv_logger = CSVLogger(os.path.join(\"/kaggle/working\", 'training_log.csv'))\n",
    "\n",
    "lr_scheduler = ReduceLROnPlateau(\n",
    "    monitor='val_loss',\n",
    "    factor=0.5,\n",
    "    patience=2,\n",
    "    verbose=1,\n",
    "    min_lr=1e-6\n",
    ")"
   ]
  },
  {
   "cell_type": "code",
   "execution_count": 12,
   "metadata": {
    "execution": {
     "iopub.execute_input": "2025-01-07T12:28:33.269367Z",
     "iopub.status.busy": "2025-01-07T12:28:33.269126Z",
     "iopub.status.idle": "2025-01-07T15:29:59.322209Z",
     "shell.execute_reply": "2025-01-07T15:29:59.321313Z",
     "shell.execute_reply.started": "2025-01-07T12:28:33.269346Z"
    },
    "trusted": true
   },
   "outputs": [
    {
     "name": "stdout",
     "output_type": "stream",
     "text": [
      "Epoch 1/10\n"
     ]
    },
    {
     "name": "stderr",
     "output_type": "stream",
     "text": [
      "/usr/local/lib/python3.10/dist-packages/keras/src/trainers/data_adapters/py_dataset_adapter.py:121: UserWarning: Your `PyDataset` class should call `super().__init__(**kwargs)` in its constructor. `**kwargs` can include `workers`, `use_multiprocessing`, `max_queue_size`. Do not pass these arguments to `fit()`, as they will be ignored.\n",
      "  self._warn_if_super_not_called()\n"
     ]
    },
    {
     "name": "stdout",
     "output_type": "stream",
     "text": [
      "\u001b[1m2917/2917\u001b[0m \u001b[32m━━━━━━━━━━━━━━━━━━━━\u001b[0m\u001b[37m\u001b[0m \u001b[1m1125s\u001b[0m 378ms/step - accuracy: 0.6567 - loss: 7.0834 - val_accuracy: 0.7980 - val_loss: 1.2223 - learning_rate: 1.0000e-04\n",
      "Epoch 2/10\n",
      "\u001b[1m2917/2917\u001b[0m \u001b[32m━━━━━━━━━━━━━━━━━━━━\u001b[0m\u001b[37m\u001b[0m \u001b[1m1082s\u001b[0m 370ms/step - accuracy: 0.7862 - loss: 1.0261 - val_accuracy: 0.8273 - val_loss: 0.5971 - learning_rate: 1.0000e-04\n",
      "Epoch 3/10\n",
      "\u001b[1m2917/2917\u001b[0m \u001b[32m━━━━━━━━━━━━━━━━━━━━\u001b[0m\u001b[37m\u001b[0m \u001b[1m1075s\u001b[0m 368ms/step - accuracy: 0.8042 - loss: 0.6397 - val_accuracy: 0.8261 - val_loss: 0.5435 - learning_rate: 1.0000e-04\n",
      "Epoch 4/10\n",
      "\u001b[1m2917/2917\u001b[0m \u001b[32m━━━━━━━━━━━━━━━━━━━━\u001b[0m\u001b[37m\u001b[0m \u001b[1m1074s\u001b[0m 368ms/step - accuracy: 0.8114 - loss: 0.5730 - val_accuracy: 0.8246 - val_loss: 0.5190 - learning_rate: 1.0000e-04\n",
      "Epoch 5/10\n",
      "\u001b[1m2917/2917\u001b[0m \u001b[32m━━━━━━━━━━━━━━━━━━━━\u001b[0m\u001b[37m\u001b[0m \u001b[1m1074s\u001b[0m 367ms/step - accuracy: 0.8247 - loss: 0.5377 - val_accuracy: 0.8478 - val_loss: 0.4715 - learning_rate: 1.0000e-04\n",
      "Epoch 6/10\n",
      "\u001b[1m2917/2917\u001b[0m \u001b[32m━━━━━━━━━━━━━━━━━━━━\u001b[0m\u001b[37m\u001b[0m \u001b[1m1088s\u001b[0m 372ms/step - accuracy: 0.8342 - loss: 0.5129 - val_accuracy: 0.8557 - val_loss: 0.4483 - learning_rate: 1.0000e-04\n",
      "Epoch 7/10\n",
      "\u001b[1m2917/2917\u001b[0m \u001b[32m━━━━━━━━━━━━━━━━━━━━\u001b[0m\u001b[37m\u001b[0m \u001b[1m1106s\u001b[0m 378ms/step - accuracy: 0.8391 - loss: 0.4996 - val_accuracy: 0.8576 - val_loss: 0.4388 - learning_rate: 1.0000e-04\n",
      "Epoch 8/10\n",
      "\u001b[1m2917/2917\u001b[0m \u001b[32m━━━━━━━━━━━━━━━━━━━━\u001b[0m\u001b[37m\u001b[0m \u001b[1m1102s\u001b[0m 377ms/step - accuracy: 0.8409 - loss: 0.4917 - val_accuracy: 0.8538 - val_loss: 0.4502 - learning_rate: 1.0000e-04\n",
      "Epoch 9/10\n",
      "\u001b[1m2916/2917\u001b[0m \u001b[32m━━━━━━━━━━━━━━━━━━━\u001b[0m\u001b[37m━\u001b[0m \u001b[1m0s\u001b[0m 297ms/step - accuracy: 0.8473 - loss: 0.4711\n",
      "Epoch 9: ReduceLROnPlateau reducing learning rate to 4.999999873689376e-05.\n",
      "\u001b[1m2917/2917\u001b[0m \u001b[32m━━━━━━━━━━━━━━━━━━━━\u001b[0m\u001b[37m\u001b[0m \u001b[1m1084s\u001b[0m 371ms/step - accuracy: 0.8473 - loss: 0.4711 - val_accuracy: 0.8513 - val_loss: 0.4642 - learning_rate: 1.0000e-04\n",
      "Epoch 10/10\n",
      "\u001b[1m2917/2917\u001b[0m \u001b[32m━━━━━━━━━━━━━━━━━━━━\u001b[0m\u001b[37m\u001b[0m \u001b[1m1075s\u001b[0m 368ms/step - accuracy: 0.8571 - loss: 0.4427 - val_accuracy: 0.8689 - val_loss: 0.3992 - learning_rate: 5.0000e-05\n"
     ]
    }
   ],
   "source": [
    "history = model.fit(\n",
    "    train_gen,\n",
    "    validation_data=test_gen,\n",
    "    epochs=EPOCHS,\n",
    "    callbacks=[checkpoint, csv_logger, lr_scheduler]\n",
    ")"
   ]
  },
  {
   "cell_type": "code",
   "execution_count": 13,
   "metadata": {
    "execution": {
     "iopub.execute_input": "2025-01-07T15:29:59.323624Z",
     "iopub.status.busy": "2025-01-07T15:29:59.323321Z",
     "iopub.status.idle": "2025-01-07T15:33:35.570313Z",
     "shell.execute_reply": "2025-01-07T15:33:35.569419Z",
     "shell.execute_reply.started": "2025-01-07T15:29:59.323596Z"
    },
    "trusted": true
   },
   "outputs": [
    {
     "name": "stdout",
     "output_type": "stream",
     "text": [
      "\u001b[1m730/730\u001b[0m \u001b[32m━━━━━━━━━━━━━━━━━━━━\u001b[0m\u001b[37m\u001b[0m \u001b[1m215s\u001b[0m 294ms/step - accuracy: 0.8032 - loss: 0.5481\n",
      "Test Accuracy: 0.87\n"
     ]
    }
   ],
   "source": [
    "model.save(os.path.join(\"/kaggle/working\", \"inceptionv3_final_model.keras\"))\n",
    "\n",
    "# Step 7: Evaluate the Model\n",
    "test_gen.reset()\n",
    "test_loss, test_accuracy = model.evaluate(test_gen)\n",
    "print(f\"Test Accuracy: {test_accuracy:.2f}\")"
   ]
  },
  {
   "cell_type": "code",
   "execution_count": 14,
   "metadata": {
    "execution": {
     "iopub.execute_input": "2025-01-07T15:33:35.571585Z",
     "iopub.status.busy": "2025-01-07T15:33:35.571255Z",
     "iopub.status.idle": "2025-01-07T15:37:19.705334Z",
     "shell.execute_reply": "2025-01-07T15:37:19.704578Z",
     "shell.execute_reply.started": "2025-01-07T15:33:35.571552Z"
    },
    "trusted": true
   },
   "outputs": [
    {
     "name": "stdout",
     "output_type": "stream",
     "text": [
      "\u001b[1m730/730\u001b[0m \u001b[32m━━━━━━━━━━━━━━━━━━━━\u001b[0m\u001b[37m\u001b[0m \u001b[1m223s\u001b[0m 298ms/step\n"
     ]
    }
   ],
   "source": [
    "test_gen.reset()\n",
    "preds = model.predict(test_gen)\n",
    "y_pred = np.argmax(preds, axis=1)\n",
    "y_true = test_gen.classes"
   ]
  },
  {
   "cell_type": "code",
   "execution_count": 15,
   "metadata": {
    "execution": {
     "iopub.execute_input": "2025-01-07T15:37:19.706412Z",
     "iopub.status.busy": "2025-01-07T15:37:19.706124Z",
     "iopub.status.idle": "2025-01-07T15:37:20.056799Z",
     "shell.execute_reply": "2025-01-07T15:37:20.056107Z",
     "shell.execute_reply.started": "2025-01-07T15:37:19.706378Z"
    },
    "trusted": true
   },
   "outputs": [
    {
     "data": {
      "image/png": "[encoded data removed]",
      "text/plain": [
       "<Figure size 1000x800 with 2 Axes>"
      ]
     },
     "metadata": {},
     "output_type": "display_data"
    },
    {
     "name": "stdout",
     "output_type": "stream",
     "text": [
      "                  precision    recall  f1-score   support\n",
      "\n",
      "          Eczema       0.91      0.75      0.82      3200\n",
      "atopic dematites       0.78      0.87      0.82      2292\n",
      "          normal       0.96      0.98      0.97      3200\n",
      "psoriasis_images       0.84      0.90      0.87      2974\n",
      "\n",
      "        accuracy                           0.87     11666\n",
      "       macro avg       0.87      0.87      0.87     11666\n",
      "    weighted avg       0.88      0.87      0.87     11666\n",
      "\n"
     ]
    }
   ],
   "source": [
    "cm = confusion_matrix(y_true, y_pred)\n",
    "plt.figure(figsize=(10, 8))\n",
    "sns.heatmap(cm, annot=True, fmt=\"d\", cmap=\"Blues\", xticklabels=train_gen.class_indices.keys(), yticklabels=train_gen.class_indices.keys())\n",
    "plt.title(\"Confusion Matrix\")\n",
    "plt.xlabel(\"Predicted\")\n",
    "plt.ylabel(\"True\")\n",
    "plt.show()\n",
    "\n",
    "# Classification Report\n",
    "print(classification_report(y_true, y_pred, target_names=train_gen.class_indices.keys()))"
   ]
  },
  {
   "cell_type": "code",
   "execution_count": null,
   "metadata": {
    "trusted": true
   },
   "outputs": [],
   "source": []
  }
 ],
 "metadata": {
  "kaggle": {
   "accelerator": "gpu",
   "dataSources": [
    {
     "datasetId": 6425603,
     "sourceId": 10373228,
     "sourceType": "datasetVersion"
    }
   ],
   "dockerImageVersionId": 30823,
   "isGpuEnabled": true,
   "isInternetEnabled": true,
   "language": "python",
   "sourceType": "notebook"
  },
  "kernelspec": {
   "display_name": "Python 3",
   "language": "python",
   "name": "python3"
  },
  "language_info": {
   "codemirror_mode": {
    "name": "ipython",
    "version": 3
   },
   "file_extension": ".py",
   "mimetype": "text/x-python",
   "name": "python",
   "nbconvert_exporter": "python",
   "pygments_lexer": "ipython3",
   "version": "3.10.12"
  }
 },
 "nbformat": 4,
 "nbformat_minor": 4
}
